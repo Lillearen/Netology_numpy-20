{
 "cells": [
  {
   "cell_type": "code",
   "execution_count": 2,
   "id": "141477c8",
   "metadata": {},
   "outputs": [],
   "source": [
    "import numpy as np"
   ]
  },
  {
   "cell_type": "markdown",
   "id": "ef439cf4",
   "metadata": {},
   "source": [
    "Имеется матрица покупок в интернет-магазине. Номер строки +1 - ID пользователя. В столбцах количество покупок категорий товаров этим пользователем:"
   ]
  },
  {
   "cell_type": "code",
   "execution_count": 3,
   "id": "5307273e",
   "metadata": {},
   "outputs": [],
   "source": [
    "users_stats = np.array(\n",
    "    [\n",
    "        [2, 1, 0, 0, 0, 0],\n",
    "        [1, 1, 2, 1, 0, 0],\n",
    "        [2, 0, 1, 0, 0, 0],\n",
    "        [1, 1, 2, 1, 0, 1],\n",
    "        [0, 0, 1, 2, 0, 0],\n",
    "        [0, 0, 0, 0, 0, 5],\n",
    "        [1, 0, 0, 0, 0, 0],\n",
    "        [0, 1, 1, 0, 0, 0],\n",
    "        [0, 0, 0, 1, 1, 3],\n",
    "        [1, 0, 0, 2, 1, 4]\n",
    "    ], \n",
    "    np.int32\n",
    ")"
   ]
  },
  {
   "cell_type": "markdown",
   "id": "45d28625",
   "metadata": {},
   "source": [
    "На сайт заходит очередной посетитель, о покупках которого известно следующее:"
   ]
  },
  {
   "cell_type": "code",
   "execution_count": 4,
   "id": "8760f7c8",
   "metadata": {},
   "outputs": [],
   "source": [
    "next_user_stats = np.array([0, 1, 2, 0, 0, 0])"
   ]
  },
  {
   "cell_type": "markdown",
   "id": "04835885",
   "metadata": {},
   "source": [
    "Найдите самого похожего пользователя. Т. е. посчитайте косинусное сходство между этим пользователем и всеми пользователями из массива **user_stats**"
   ]
  },
  {
   "cell_type": "code",
   "execution_count": 6,
   "id": "aea9a5f0",
   "metadata": {},
   "outputs": [],
   "source": [
    "def cosine( a, b ):\n",
    "    \"\"\"\n",
    "    Подсчет косинуса угла между векторами a, b по их координатам\n",
    "    \"\"\"\n",
    "    \n",
    "    # длины векторов\n",
    "    aLength = np.linalg.norm( a )\n",
    "    bLength = np.linalg.norm( b )\n",
    "    \n",
    "    return np.dot( a, b ) / ( aLength * bLength )"
   ]
  },
  {
   "cell_type": "code",
   "execution_count": 30,
   "id": "fa0a8a6d",
   "metadata": {},
   "outputs": [],
   "source": [
    "cos_data = []\n",
    "for user_id, user_stats in enumerate(users_stats):\n",
    "    cos_data.append(cosine(user_stats, next_user_stats))"
   ]
  },
  {
   "cell_type": "code",
   "execution_count": 31,
   "id": "9bf8894f",
   "metadata": {},
   "outputs": [
    {
     "data": {
      "text/plain": [
       "[0.19999999999999996,\n",
       " 0.8451542547285165,\n",
       " 0.3999999999999999,\n",
       " 0.7905694150420948,\n",
       " 0.3999999999999999,\n",
       " 0.0,\n",
       " 0.0,\n",
       " 0.9486832980505138,\n",
       " 0.0,\n",
       " 0.0]"
      ]
     },
     "execution_count": 31,
     "metadata": {},
     "output_type": "execute_result"
    }
   ],
   "source": [
    "cos_data"
   ]
  },
  {
   "cell_type": "code",
   "execution_count": 32,
   "id": "e755d11a",
   "metadata": {},
   "outputs": [
    {
     "name": "stdout",
     "output_type": "stream",
     "text": [
      "Самый похожий пользователь: 8\n"
     ]
    }
   ],
   "source": [
    "print('Самый похожий пользователь:', cos_data.index(max(cos_data)) + 1)"
   ]
  }
 ],
 "metadata": {
  "kernelspec": {
   "display_name": "Python 3",
   "language": "python",
   "name": "python3"
  },
  "language_info": {
   "codemirror_mode": {
    "name": "ipython",
    "version": 3
   },
   "file_extension": ".py",
   "mimetype": "text/x-python",
   "name": "python",
   "nbconvert_exporter": "python",
   "pygments_lexer": "ipython3",
   "version": "3.9.4"
  }
 },
 "nbformat": 4,
 "nbformat_minor": 5
}
